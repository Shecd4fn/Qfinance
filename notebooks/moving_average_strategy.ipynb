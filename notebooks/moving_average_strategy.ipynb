import sys
sys.path.append('../src')  # Adjust path if needed to import strategy.py
from strategy import get_stock_data, calculate_moving_averages, generate_signals
import matplotlib.pyplot as plt

stock_data = get_stock_data('AAPL', '2022-01-01', '2023-01-01')
stock_data = calculate_moving_averages(stock_data)
stock_data = generate_signals(stock_data)
